{
  "nbformat": 4,
  "nbformat_minor": 0,
  "metadata": {
    "colab": {
      "name": "vgg5.ipynb",
      "provenance": [],
      "collapsed_sections": [
        "F-6ShtCgYhYF",
        "DX4nvTdoalVI",
        "yYnD6iztQxqM",
        "9KR3Nl7XNTb8"
      ]
    },
    "kernelspec": {
      "name": "python3",
      "display_name": "Python 3"
    },
    "language_info": {
      "name": "python"
    },
    "accelerator": "GPU"
  },
  "cells": [
    {
      "cell_type": "markdown",
      "metadata": {
        "id": "F-6ShtCgYhYF"
      },
      "source": [
        "# Clone the Github Repo"
      ]
    },
    {
      "cell_type": "code",
      "metadata": {
        "id": "q_GacBejckVX",
        "colab": {
          "base_uri": "https://localhost:8080/"
        },
        "outputId": "402569e3-a549-4d77-ffbe-76874efb0b43"
      },
      "source": [
        "! git clone https://github.com/yungyuchen521/Graduation_Project.git\n",
        "! ls"
      ],
      "execution_count": null,
      "outputs": [
        {
          "output_type": "stream",
          "name": "stdout",
          "text": [
            "Cloning into 'Graduation_Project'...\n",
            "remote: Enumerating objects: 2107, done.\u001b[K\n",
            "remote: Counting objects: 100% (1290/1290), done.\u001b[K\n",
            "remote: Compressing objects: 100% (1254/1254), done.\u001b[K\n",
            "remote: Total 2107 (delta 43), reused 1279 (delta 36), pack-reused 817\u001b[K\n",
            "Receiving objects: 100% (2107/2107), 89.79 MiB | 27.42 MiB/s, done.\n",
            "Resolving deltas: 100% (59/59), done.\n",
            "Graduation_Project  sample_data\n"
          ]
        }
      ]
    },
    {
      "cell_type": "code",
      "metadata": {
        "colab": {
          "base_uri": "https://localhost:8080/"
        },
        "id": "wN_IrbYw2BZG",
        "outputId": "9ddbe9a5-f8cc-4033-b76e-d6ed457307aa"
      },
      "source": [
        "from google.colab import drive\n",
        "drive.mount('/content/drive')"
      ],
      "execution_count": null,
      "outputs": [
        {
          "output_type": "stream",
          "name": "stdout",
          "text": [
            "Mounted at /content/drive\n"
          ]
        }
      ]
    },
    {
      "cell_type": "markdown",
      "metadata": {
        "id": "DX4nvTdoalVI"
      },
      "source": [
        "# Extract the Selected People"
      ]
    },
    {
      "cell_type": "code",
      "metadata": {
        "id": "YEg7G6ioYrKu"
      },
      "source": [
        "import pandas as pd\n",
        "import numpy as np\n",
        "import matplotlib.pyplot as plt\n",
        "from PIL import Image"
      ],
      "execution_count": null,
      "outputs": []
    },
    {
      "cell_type": "code",
      "metadata": {
        "colab": {
          "base_uri": "https://localhost:8080/",
          "height": 221
        },
        "id": "qWUufg16X9L0",
        "outputId": "43e502fc-916e-4369-c26b-fc3cee87400d"
      },
      "source": [
        "df = pd.read_csv('https://raw.githubusercontent.com/yungyuchen521/Graduation_Project/main/names.txt', sep='\\t', header=None)\n",
        "df.columns = ['name', 'count']\n",
        "df.head()"
      ],
      "execution_count": null,
      "outputs": [
        {
          "output_type": "execute_result",
          "data": {
            "text/html": [
              "<div>\n",
              "<style scoped>\n",
              "    .dataframe tbody tr th:only-of-type {\n",
              "        vertical-align: middle;\n",
              "    }\n",
              "\n",
              "    .dataframe tbody tr th {\n",
              "        vertical-align: top;\n",
              "    }\n",
              "\n",
              "    .dataframe thead th {\n",
              "        text-align: right;\n",
              "    }\n",
              "</style>\n",
              "<table border=\"1\" class=\"dataframe\">\n",
              "  <thead>\n",
              "    <tr style=\"text-align: right;\">\n",
              "      <th></th>\n",
              "      <th>name</th>\n",
              "      <th>count</th>\n",
              "    </tr>\n",
              "  </thead>\n",
              "  <tbody>\n",
              "    <tr>\n",
              "      <th>0</th>\n",
              "      <td>AJ_Cook</td>\n",
              "      <td>1</td>\n",
              "    </tr>\n",
              "    <tr>\n",
              "      <th>1</th>\n",
              "      <td>AJ_Lamas</td>\n",
              "      <td>1</td>\n",
              "    </tr>\n",
              "    <tr>\n",
              "      <th>2</th>\n",
              "      <td>Aaron_Eckhart</td>\n",
              "      <td>1</td>\n",
              "    </tr>\n",
              "    <tr>\n",
              "      <th>3</th>\n",
              "      <td>Aaron_Guiel</td>\n",
              "      <td>1</td>\n",
              "    </tr>\n",
              "    <tr>\n",
              "      <th>4</th>\n",
              "      <td>Aaron_Patterson</td>\n",
              "      <td>1</td>\n",
              "    </tr>\n",
              "  </tbody>\n",
              "</table>\n",
              "</div>"
            ],
            "text/plain": [
              "              name  count\n",
              "0          AJ_Cook      1\n",
              "1         AJ_Lamas      1\n",
              "2    Aaron_Eckhart      1\n",
              "3      Aaron_Guiel      1\n",
              "4  Aaron_Patterson      1"
            ]
          },
          "metadata": {},
          "execution_count": 3
        }
      ]
    },
    {
      "cell_type": "code",
      "metadata": {
        "colab": {
          "base_uri": "https://localhost:8080/",
          "height": 221
        },
        "id": "vNaFr0QYaUOS",
        "outputId": "298f0a64-f03d-40b8-b33c-e2548438f201"
      },
      "source": [
        "N = 5 # select top n people with most images\n",
        "\n",
        "df = df.sort_values(by=['count'], ascending=False).iloc[:N, :]\n",
        "df"
      ],
      "execution_count": null,
      "outputs": [
        {
          "output_type": "execute_result",
          "data": {
            "text/html": [
              "<div>\n",
              "<style scoped>\n",
              "    .dataframe tbody tr th:only-of-type {\n",
              "        vertical-align: middle;\n",
              "    }\n",
              "\n",
              "    .dataframe tbody tr th {\n",
              "        vertical-align: top;\n",
              "    }\n",
              "\n",
              "    .dataframe thead th {\n",
              "        text-align: right;\n",
              "    }\n",
              "</style>\n",
              "<table border=\"1\" class=\"dataframe\">\n",
              "  <thead>\n",
              "    <tr style=\"text-align: right;\">\n",
              "      <th></th>\n",
              "      <th>name</th>\n",
              "      <th>count</th>\n",
              "    </tr>\n",
              "  </thead>\n",
              "  <tbody>\n",
              "    <tr>\n",
              "      <th>1871</th>\n",
              "      <td>George_W_Bush</td>\n",
              "      <td>530</td>\n",
              "    </tr>\n",
              "    <tr>\n",
              "      <th>1047</th>\n",
              "      <td>Colin_Powell</td>\n",
              "      <td>236</td>\n",
              "    </tr>\n",
              "    <tr>\n",
              "      <th>5458</th>\n",
              "      <td>Tony_Blair</td>\n",
              "      <td>144</td>\n",
              "    </tr>\n",
              "    <tr>\n",
              "      <th>1404</th>\n",
              "      <td>Donald_Rumsfeld</td>\n",
              "      <td>121</td>\n",
              "    </tr>\n",
              "    <tr>\n",
              "      <th>1892</th>\n",
              "      <td>Gerhard_Schroeder</td>\n",
              "      <td>109</td>\n",
              "    </tr>\n",
              "  </tbody>\n",
              "</table>\n",
              "</div>"
            ],
            "text/plain": [
              "                   name  count\n",
              "1871      George_W_Bush    530\n",
              "1047       Colin_Powell    236\n",
              "5458         Tony_Blair    144\n",
              "1404    Donald_Rumsfeld    121\n",
              "1892  Gerhard_Schroeder    109"
            ]
          },
          "metadata": {},
          "execution_count": 4
        }
      ]
    },
    {
      "cell_type": "code",
      "metadata": {
        "colab": {
          "base_uri": "https://localhost:8080/"
        },
        "id": "hbkpj025bTsF",
        "outputId": "749babcd-846a-4c7f-ddd8-73eed5d1cfaa"
      },
      "source": [
        "people = df.set_index('name').T.to_dict('list')\n",
        "\n",
        "for key, value in people.items():\n",
        "  people[key] = people[key][0]\n",
        "  \n",
        "people"
      ],
      "execution_count": null,
      "outputs": [
        {
          "output_type": "execute_result",
          "data": {
            "text/plain": [
              "{'Colin_Powell': 236,\n",
              " 'Donald_Rumsfeld': 121,\n",
              " 'George_W_Bush': 530,\n",
              " 'Gerhard_Schroeder': 109,\n",
              " 'Tony_Blair': 144}"
            ]
          },
          "metadata": {},
          "execution_count": 5
        }
      ]
    },
    {
      "cell_type": "markdown",
      "metadata": {
        "id": "yYnD6iztQxqM"
      },
      "source": [
        "# Data Preprocessing"
      ]
    },
    {
      "cell_type": "code",
      "metadata": {
        "id": "a8CFEw8LciJ_"
      },
      "source": [
        "def get_file_name(name, num):\n",
        "  path = 'Graduation_Project/img/'\n",
        "  num = str(num)\n",
        "\n",
        "  while len(num) != 4:\n",
        "    num = '0' + num\n",
        "\n",
        "  return path + name + '/' + name + '_' + num + '.jpg'\n",
        "\n",
        "def get_all_img(map):\n",
        "  imgs = []\n",
        "  labels = []\n",
        "\n",
        "  for key, value in map.items():\n",
        "    for i in range(1, value+1):\n",
        "      jpg = Image.open(get_file_name(key, i))\n",
        "      imgs.append(np.array(jpg) / 255.0) # make the range within [0, 1]\n",
        "      jpg.close()\n",
        "\n",
        "      labels.append(key)\n",
        "\n",
        "  return np.array(imgs), np.array(labels)\n",
        "\n",
        "def horizontal_flip(img):\n",
        "  return np.flip(img, 1)\n",
        "\n",
        "# RAM crashes if doing augmentation\n",
        "def augmentation(data):\n",
        "  imgs, labels = data\n",
        "  aug_imgs = []\n",
        "  aug_labels = []\n",
        "\n",
        "  for i in range(len(labels)):\n",
        "    aug_imgs.append(imgs[i])\n",
        "    aug_imgs.append(horizontal_flip(imgs[i]))\n",
        "\n",
        "    aug_labels.append(labels[i])\n",
        "    aug_labels.append(labels[i])\n",
        "\n",
        "  return np.array(aug_imgs), np.array(aug_labels)"
      ],
      "execution_count": null,
      "outputs": []
    },
    {
      "cell_type": "code",
      "metadata": {
        "colab": {
          "base_uri": "https://localhost:8080/",
          "height": 1000
        },
        "id": "IP9QasF6k2Fa",
        "outputId": "0518a65e-bc43-4f7c-a8ba-7a060a84d76b"
      },
      "source": [
        "#imgs, labels = augmentation(get_all_img(people))\n",
        "imgs, labels = get_all_img(people)\n",
        "\n",
        "# check the images\n",
        "'''\n",
        "plt.figure(figsize=(10, 10))\n",
        "for i in range(25):\n",
        "  plt.subplot(5, 5, i+1)\n",
        "  plt.xticks([])\n",
        "  plt.yticks([])\n",
        "  plt.grid(False)\n",
        "  plt.imshow(imgs[(i*123214 + 2021) % len(imgs)])\n",
        "\n",
        "plt.show()\n",
        "'''"
      ],
      "execution_count": null,
      "outputs": [
        {
          "output_type": "execute_result",
          "data": {
            "application/vnd.google.colaboratory.intrinsic+json": {
              "type": "string"
            },
            "text/plain": [
              "'\\nplt.figure(figsize=(10, 10))\\nfor i in range(25):\\n  plt.subplot(5, 5, i+1)\\n  plt.xticks([])\\n  plt.yticks([])\\n  plt.grid(False)\\n  plt.imshow(imgs[(i*123214 + 2021) % len(imgs)])\\n\\nplt.show()\\n'"
            ]
          },
          "metadata": {},
          "execution_count": 7
        }
      ]
    },
    {
      "cell_type": "code",
      "metadata": {
        "id": "sGbhyTERQ4Gp"
      },
      "source": [
        "from sklearn.model_selection import train_test_split\n",
        "from sklearn.preprocessing import LabelEncoder"
      ],
      "execution_count": null,
      "outputs": []
    },
    {
      "cell_type": "code",
      "metadata": {
        "colab": {
          "base_uri": "https://localhost:8080/"
        },
        "id": "y23hZJOAVTOD",
        "outputId": "ecb57778-e98e-4d51-f253-408b8e0a5070"
      },
      "source": [
        "tmp = LabelEncoder().fit_transform(labels)\n",
        "tmp"
      ],
      "execution_count": null,
      "outputs": [
        {
          "output_type": "execute_result",
          "data": {
            "text/plain": [
              "array([2, 2, 2, ..., 3, 3, 3])"
            ]
          },
          "metadata": {},
          "execution_count": 9
        }
      ]
    },
    {
      "cell_type": "code",
      "metadata": {
        "colab": {
          "base_uri": "https://localhost:8080/"
        },
        "id": "CiGqF7p5TyGj",
        "outputId": "021adae5-8293-4b58-e9d4-0c6b5b83c5d7"
      },
      "source": [
        "Y = np.array(pd.get_dummies(tmp))\n",
        "\n",
        "Y.shape"
      ],
      "execution_count": null,
      "outputs": [
        {
          "output_type": "execute_result",
          "data": {
            "text/plain": [
              "(1140, 5)"
            ]
          },
          "metadata": {},
          "execution_count": 10
        }
      ]
    },
    {
      "cell_type": "code",
      "metadata": {
        "id": "O6pjD4PhQ_Kn"
      },
      "source": [
        "x_train, x_test, y_train, y_test = train_test_split(imgs, Y, test_size=0.33, stratify=Y)"
      ],
      "execution_count": null,
      "outputs": []
    },
    {
      "cell_type": "markdown",
      "metadata": {
        "id": "UCqmftG5cLi7"
      },
      "source": [
        "# Pre-trained Model"
      ]
    },
    {
      "cell_type": "code",
      "metadata": {
        "id": "drU7KsZ8cVne"
      },
      "source": [
        "from tensorflow.keras.applications.vgg16 import VGG16\n",
        "from tensorflow.keras.layers import Input, Activation, Dense, Flatten, Dropout\n",
        "from tensorflow.keras.models import Sequential\n",
        "from tensorflow.keras.callbacks import ModelCheckpoint"
      ],
      "execution_count": null,
      "outputs": []
    },
    {
      "cell_type": "code",
      "metadata": {
        "colab": {
          "base_uri": "https://localhost:8080/"
        },
        "id": "O-I7Bocys7K3",
        "outputId": "1de47e67-033e-4f5b-e291-d1d068dfeeda"
      },
      "source": [
        "vgg = VGG16(weights='imagenet', input_tensor=Input(shape=x_train[0].shape))\n",
        "vgg.summary()"
      ],
      "execution_count": null,
      "outputs": [
        {
          "output_type": "stream",
          "name": "stdout",
          "text": [
            "Downloading data from https://storage.googleapis.com/tensorflow/keras-applications/vgg16/vgg16_weights_tf_dim_ordering_tf_kernels.h5\n",
            "553467904/553467096 [==============================] - 6s 0us/step\n",
            "553476096/553467096 [==============================] - 6s 0us/step\n",
            "Model: \"vgg16\"\n",
            "_________________________________________________________________\n",
            " Layer (type)                Output Shape              Param #   \n",
            "=================================================================\n",
            " input_1 (InputLayer)        [(None, 250, 250, 3)]     0         \n",
            "                                                                 \n",
            " block1_conv1 (Conv2D)       (None, 250, 250, 64)      1792      \n",
            "                                                                 \n",
            " block1_conv2 (Conv2D)       (None, 250, 250, 64)      36928     \n",
            "                                                                 \n",
            " block1_pool (MaxPooling2D)  (None, 125, 125, 64)      0         \n",
            "                                                                 \n",
            " block2_conv1 (Conv2D)       (None, 125, 125, 128)     73856     \n",
            "                                                                 \n",
            " block2_conv2 (Conv2D)       (None, 125, 125, 128)     147584    \n",
            "                                                                 \n",
            " block2_pool (MaxPooling2D)  (None, 62, 62, 128)       0         \n",
            "                                                                 \n",
            " block3_conv1 (Conv2D)       (None, 62, 62, 256)       295168    \n",
            "                                                                 \n",
            " block3_conv2 (Conv2D)       (None, 62, 62, 256)       590080    \n",
            "                                                                 \n",
            " block3_conv3 (Conv2D)       (None, 62, 62, 256)       590080    \n",
            "                                                                 \n",
            " block3_pool (MaxPooling2D)  (None, 31, 31, 256)       0         \n",
            "                                                                 \n",
            " block4_conv1 (Conv2D)       (None, 31, 31, 512)       1180160   \n",
            "                                                                 \n",
            " block4_conv2 (Conv2D)       (None, 31, 31, 512)       2359808   \n",
            "                                                                 \n",
            " block4_conv3 (Conv2D)       (None, 31, 31, 512)       2359808   \n",
            "                                                                 \n",
            " block4_pool (MaxPooling2D)  (None, 15, 15, 512)       0         \n",
            "                                                                 \n",
            " block5_conv1 (Conv2D)       (None, 15, 15, 512)       2359808   \n",
            "                                                                 \n",
            " block5_conv2 (Conv2D)       (None, 15, 15, 512)       2359808   \n",
            "                                                                 \n",
            " block5_conv3 (Conv2D)       (None, 15, 15, 512)       2359808   \n",
            "                                                                 \n",
            " block5_pool (MaxPooling2D)  (None, 7, 7, 512)         0         \n",
            "                                                                 \n",
            " flatten (Flatten)           (None, 25088)             0         \n",
            "                                                                 \n",
            " fc1 (Dense)                 (None, 4096)              102764544 \n",
            "                                                                 \n",
            " fc2 (Dense)                 (None, 4096)              16781312  \n",
            "                                                                 \n",
            " predictions (Dense)         (None, 1000)              4097000   \n",
            "                                                                 \n",
            "=================================================================\n",
            "Total params: 138,357,544\n",
            "Trainable params: 138,357,544\n",
            "Non-trainable params: 0\n",
            "_________________________________________________________________\n"
          ]
        }
      ]
    },
    {
      "cell_type": "markdown",
      "metadata": {
        "id": "P0lZHaJWCA3T"
      },
      "source": [
        "**Remove the Last 2 Layers**"
      ]
    },
    {
      "cell_type": "code",
      "metadata": {
        "colab": {
          "base_uri": "https://localhost:8080/"
        },
        "id": "YF7ba_ohAXUT",
        "outputId": "305d629c-cec5-4ded-d070-d39df4398f16"
      },
      "source": [
        "model = Sequential()\n",
        "\n",
        "for layer in vgg.layers[:-2]:\n",
        "  model.add(layer)\n",
        "\n",
        "model.summary()"
      ],
      "execution_count": null,
      "outputs": [
        {
          "output_type": "stream",
          "name": "stdout",
          "text": [
            "Model: \"sequential\"\n",
            "_________________________________________________________________\n",
            " Layer (type)                Output Shape              Param #   \n",
            "=================================================================\n",
            " block1_conv1 (Conv2D)       (None, 250, 250, 64)      1792      \n",
            "                                                                 \n",
            " block1_conv2 (Conv2D)       (None, 250, 250, 64)      36928     \n",
            "                                                                 \n",
            " block1_pool (MaxPooling2D)  (None, 125, 125, 64)      0         \n",
            "                                                                 \n",
            " block2_conv1 (Conv2D)       (None, 125, 125, 128)     73856     \n",
            "                                                                 \n",
            " block2_conv2 (Conv2D)       (None, 125, 125, 128)     147584    \n",
            "                                                                 \n",
            " block2_pool (MaxPooling2D)  (None, 62, 62, 128)       0         \n",
            "                                                                 \n",
            " block3_conv1 (Conv2D)       (None, 62, 62, 256)       295168    \n",
            "                                                                 \n",
            " block3_conv2 (Conv2D)       (None, 62, 62, 256)       590080    \n",
            "                                                                 \n",
            " block3_conv3 (Conv2D)       (None, 62, 62, 256)       590080    \n",
            "                                                                 \n",
            " block3_pool (MaxPooling2D)  (None, 31, 31, 256)       0         \n",
            "                                                                 \n",
            " block4_conv1 (Conv2D)       (None, 31, 31, 512)       1180160   \n",
            "                                                                 \n",
            " block4_conv2 (Conv2D)       (None, 31, 31, 512)       2359808   \n",
            "                                                                 \n",
            " block4_conv3 (Conv2D)       (None, 31, 31, 512)       2359808   \n",
            "                                                                 \n",
            " block4_pool (MaxPooling2D)  (None, 15, 15, 512)       0         \n",
            "                                                                 \n",
            " block5_conv1 (Conv2D)       (None, 15, 15, 512)       2359808   \n",
            "                                                                 \n",
            " block5_conv2 (Conv2D)       (None, 15, 15, 512)       2359808   \n",
            "                                                                 \n",
            " block5_conv3 (Conv2D)       (None, 15, 15, 512)       2359808   \n",
            "                                                                 \n",
            " block5_pool (MaxPooling2D)  (None, 7, 7, 512)         0         \n",
            "                                                                 \n",
            " flatten (Flatten)           (None, 25088)             0         \n",
            "                                                                 \n",
            " fc1 (Dense)                 (None, 4096)              102764544 \n",
            "                                                                 \n",
            "=================================================================\n",
            "Total params: 117,479,232\n",
            "Trainable params: 117,479,232\n",
            "Non-trainable params: 0\n",
            "_________________________________________________________________\n"
          ]
        }
      ]
    },
    {
      "cell_type": "code",
      "metadata": {
        "id": "EFuPRTEBsG0M"
      },
      "source": [
        "for layer in model.layers[:-2]:\n",
        "  layer.trainable = False"
      ],
      "execution_count": null,
      "outputs": []
    },
    {
      "cell_type": "code",
      "metadata": {
        "colab": {
          "base_uri": "https://localhost:8080/"
        },
        "id": "I6Fl85Wct4E3",
        "outputId": "071a0080-5279-4ab5-8b05-4d3f934a07d3"
      },
      "source": [
        "model.add(Dropout(0.1))\n",
        "model.add(Dense(256, activation='relu'))\n",
        "model.add(Dropout(0.1))\n",
        "model.add(Dense(N, activation='softmax'))\n",
        "\n",
        "model.summary()"
      ],
      "execution_count": null,
      "outputs": [
        {
          "output_type": "stream",
          "name": "stdout",
          "text": [
            "Model: \"sequential\"\n",
            "_________________________________________________________________\n",
            " Layer (type)                Output Shape              Param #   \n",
            "=================================================================\n",
            " block1_conv1 (Conv2D)       (None, 250, 250, 64)      1792      \n",
            "                                                                 \n",
            " block1_conv2 (Conv2D)       (None, 250, 250, 64)      36928     \n",
            "                                                                 \n",
            " block1_pool (MaxPooling2D)  (None, 125, 125, 64)      0         \n",
            "                                                                 \n",
            " block2_conv1 (Conv2D)       (None, 125, 125, 128)     73856     \n",
            "                                                                 \n",
            " block2_conv2 (Conv2D)       (None, 125, 125, 128)     147584    \n",
            "                                                                 \n",
            " block2_pool (MaxPooling2D)  (None, 62, 62, 128)       0         \n",
            "                                                                 \n",
            " block3_conv1 (Conv2D)       (None, 62, 62, 256)       295168    \n",
            "                                                                 \n",
            " block3_conv2 (Conv2D)       (None, 62, 62, 256)       590080    \n",
            "                                                                 \n",
            " block3_conv3 (Conv2D)       (None, 62, 62, 256)       590080    \n",
            "                                                                 \n",
            " block3_pool (MaxPooling2D)  (None, 31, 31, 256)       0         \n",
            "                                                                 \n",
            " block4_conv1 (Conv2D)       (None, 31, 31, 512)       1180160   \n",
            "                                                                 \n",
            " block4_conv2 (Conv2D)       (None, 31, 31, 512)       2359808   \n",
            "                                                                 \n",
            " block4_conv3 (Conv2D)       (None, 31, 31, 512)       2359808   \n",
            "                                                                 \n",
            " block4_pool (MaxPooling2D)  (None, 15, 15, 512)       0         \n",
            "                                                                 \n",
            " block5_conv1 (Conv2D)       (None, 15, 15, 512)       2359808   \n",
            "                                                                 \n",
            " block5_conv2 (Conv2D)       (None, 15, 15, 512)       2359808   \n",
            "                                                                 \n",
            " block5_conv3 (Conv2D)       (None, 15, 15, 512)       2359808   \n",
            "                                                                 \n",
            " block5_pool (MaxPooling2D)  (None, 7, 7, 512)         0         \n",
            "                                                                 \n",
            " flatten (Flatten)           (None, 25088)             0         \n",
            "                                                                 \n",
            " fc1 (Dense)                 (None, 4096)              102764544 \n",
            "                                                                 \n",
            " dropout (Dropout)           (None, 4096)              0         \n",
            "                                                                 \n",
            " dense (Dense)               (None, 256)               1048832   \n",
            "                                                                 \n",
            " dropout_1 (Dropout)         (None, 256)               0         \n",
            "                                                                 \n",
            " dense_1 (Dense)             (None, 5)                 1285      \n",
            "                                                                 \n",
            "=================================================================\n",
            "Total params: 118,529,349\n",
            "Trainable params: 103,814,661\n",
            "Non-trainable params: 14,714,688\n",
            "_________________________________________________________________\n"
          ]
        }
      ]
    },
    {
      "cell_type": "code",
      "metadata": {
        "id": "w2rfWZ8KMtNe"
      },
      "source": [
        "model.compile(\n",
        "    optimizer='adam',\n",
        "    loss='categorical_crossentropy',\n",
        "    metrics='accuracy'\n",
        ")"
      ],
      "execution_count": null,
      "outputs": []
    },
    {
      "cell_type": "code",
      "metadata": {
        "colab": {
          "base_uri": "https://localhost:8080/"
        },
        "id": "hcmYeU-bNmvB",
        "outputId": "176b468b-b4fd-4813-a1bd-f628ebb97cf4"
      },
      "source": [
        "checkpoint = ModelCheckpoint('best_model', monitor='val_accuracy', verbose=1, save_best_only=True, mode='max')\n",
        "callback_list = [checkpoint]\n",
        "\n",
        "history = model.fit(\n",
        "    x_train, y_train,\n",
        "    validation_data = (x_test, y_test),\n",
        "    epochs = 15#,\n",
        "    callbacks = callback_list\n",
        ")"
      ],
      "execution_count": null,
      "outputs": [
        {
          "output_type": "stream",
          "name": "stdout",
          "text": [
            "Epoch 1/15\n",
            "24/24 [==============================] - 33s 1s/step - loss: 13.5261 - accuracy: 0.4128 - val_loss: 1.4367 - val_accuracy: 0.6446\n",
            "Epoch 2/15\n",
            "24/24 [==============================] - 12s 501ms/step - loss: 0.8159 - accuracy: 0.7457 - val_loss: 0.5652 - val_accuracy: 0.8143\n",
            "Epoch 3/15\n",
            "24/24 [==============================] - 12s 504ms/step - loss: 0.2719 - accuracy: 0.9109 - val_loss: 0.3910 - val_accuracy: 0.8833\n",
            "Epoch 4/15\n",
            "24/24 [==============================] - 12s 504ms/step - loss: 0.1081 - accuracy: 0.9764 - val_loss: 0.3164 - val_accuracy: 0.8939\n",
            "Epoch 5/15\n",
            "24/24 [==============================] - 12s 503ms/step - loss: 0.0544 - accuracy: 0.9908 - val_loss: 0.2933 - val_accuracy: 0.9098\n",
            "Epoch 6/15\n",
            "24/24 [==============================] - 12s 503ms/step - loss: 0.0404 - accuracy: 0.9934 - val_loss: 0.2301 - val_accuracy: 0.9337\n",
            "Epoch 7/15\n",
            "24/24 [==============================] - 12s 504ms/step - loss: 0.0208 - accuracy: 1.0000 - val_loss: 0.2542 - val_accuracy: 0.9284\n",
            "Epoch 8/15\n",
            "24/24 [==============================] - 12s 504ms/step - loss: 0.0241 - accuracy: 0.9948 - val_loss: 0.2732 - val_accuracy: 0.9045\n",
            "Epoch 9/15\n",
            "24/24 [==============================] - 12s 505ms/step - loss: 0.0137 - accuracy: 1.0000 - val_loss: 0.2219 - val_accuracy: 0.9257\n",
            "Epoch 10/15\n",
            "24/24 [==============================] - 12s 505ms/step - loss: 0.0134 - accuracy: 1.0000 - val_loss: 0.2104 - val_accuracy: 0.9257\n",
            "Epoch 11/15\n",
            "24/24 [==============================] - 12s 504ms/step - loss: 0.0114 - accuracy: 1.0000 - val_loss: 0.2111 - val_accuracy: 0.9337\n",
            "Epoch 12/15\n",
            "24/24 [==============================] - 12s 504ms/step - loss: 0.0074 - accuracy: 1.0000 - val_loss: 0.2159 - val_accuracy: 0.9310\n",
            "Epoch 13/15\n",
            "24/24 [==============================] - 12s 505ms/step - loss: 0.0098 - accuracy: 1.0000 - val_loss: 0.2736 - val_accuracy: 0.9231\n",
            "Epoch 14/15\n",
            "24/24 [==============================] - 12s 503ms/step - loss: 0.0091 - accuracy: 0.9987 - val_loss: 0.2101 - val_accuracy: 0.9337\n",
            "Epoch 15/15\n",
            "24/24 [==============================] - 12s 504ms/step - loss: 0.0089 - accuracy: 0.9987 - val_loss: 0.2719 - val_accuracy: 0.9151\n"
          ]
        }
      ]
    },
    {
      "cell_type": "markdown",
      "metadata": {
        "id": "PGO-qoH4-YJs"
      },
      "source": [
        "# Evaluate the Model"
      ]
    },
    {
      "cell_type": "code",
      "metadata": {
        "id": "7lSR3qS29c_O"
      },
      "source": [
        "from sklearn.metrics import accuracy_score"
      ],
      "execution_count": null,
      "outputs": []
    },
    {
      "cell_type": "code",
      "metadata": {
        "id": "K9bI3vQ69o-z"
      },
      "source": [
        "pred = model.predict(x_test)"
      ],
      "execution_count": null,
      "outputs": []
    },
    {
      "cell_type": "code",
      "metadata": {
        "id": "EGZOE9JD9soD"
      },
      "source": [
        "def max_index(arr):\n",
        "  m = 0\n",
        "\n",
        "  for i in range(1, len(arr)):\n",
        "    if arr[i] > arr[m]:\n",
        "      m = i\n",
        "\n",
        "  return m"
      ],
      "execution_count": null,
      "outputs": []
    },
    {
      "cell_type": "code",
      "metadata": {
        "id": "vkxHGtuH92A2"
      },
      "source": [
        "yhat = []\n",
        "ytrue = []\n",
        "\n",
        "for p in pred:\n",
        "  yhat.append(max_index(p))\n",
        "\n",
        "for y in y_test:\n",
        "  ytrue.append(max_index(y))"
      ],
      "execution_count": null,
      "outputs": []
    },
    {
      "cell_type": "code",
      "metadata": {
        "colab": {
          "base_uri": "https://localhost:8080/"
        },
        "id": "Esl3j4uW-IsY",
        "outputId": "0aab8144-d922-492e-ca38-efa86bacbb66"
      },
      "source": [
        "accuracy_score(ytrue, yhat)"
      ],
      "execution_count": null,
      "outputs": [
        {
          "output_type": "execute_result",
          "data": {
            "text/plain": [
              "0.9708222811671088"
            ]
          },
          "metadata": {},
          "execution_count": 24
        }
      ]
    },
    {
      "cell_type": "markdown",
      "metadata": {
        "id": "9KR3Nl7XNTb8"
      },
      "source": [
        "# Target-Agnostic Attack"
      ]
    },
    {
      "cell_type": "code",
      "metadata": {
        "colab": {
          "base_uri": "https://localhost:8080/"
        },
        "id": "VU4omVDPNXbt",
        "outputId": "ea5c1951-c558-406e-9906-951c4a49f07f"
      },
      "source": [
        "FE = Sequential()\n",
        "\n",
        "for layer in vgg.layers[:-2]:\n",
        "  FE.add(layer)\n",
        "\n",
        "FE.summary()"
      ],
      "execution_count": null,
      "outputs": [
        {
          "output_type": "stream",
          "name": "stdout",
          "text": [
            "Model: \"sequential_2\"\n",
            "_________________________________________________________________\n",
            " Layer (type)                Output Shape              Param #   \n",
            "=================================================================\n",
            " block1_conv1 (Conv2D)       (None, 250, 250, 64)      1792      \n",
            "                                                                 \n",
            " block1_conv2 (Conv2D)       (None, 250, 250, 64)      36928     \n",
            "                                                                 \n",
            " block1_pool (MaxPooling2D)  (None, 125, 125, 64)      0         \n",
            "                                                                 \n",
            " block2_conv1 (Conv2D)       (None, 125, 125, 128)     73856     \n",
            "                                                                 \n",
            " block2_conv2 (Conv2D)       (None, 125, 125, 128)     147584    \n",
            "                                                                 \n",
            " block2_pool (MaxPooling2D)  (None, 62, 62, 128)       0         \n",
            "                                                                 \n",
            " block3_conv1 (Conv2D)       (None, 62, 62, 256)       295168    \n",
            "                                                                 \n",
            " block3_conv2 (Conv2D)       (None, 62, 62, 256)       590080    \n",
            "                                                                 \n",
            " block3_conv3 (Conv2D)       (None, 62, 62, 256)       590080    \n",
            "                                                                 \n",
            " block3_pool (MaxPooling2D)  (None, 31, 31, 256)       0         \n",
            "                                                                 \n",
            " block4_conv1 (Conv2D)       (None, 31, 31, 512)       1180160   \n",
            "                                                                 \n",
            " block4_conv2 (Conv2D)       (None, 31, 31, 512)       2359808   \n",
            "                                                                 \n",
            " block4_conv3 (Conv2D)       (None, 31, 31, 512)       2359808   \n",
            "                                                                 \n",
            " block4_pool (MaxPooling2D)  (None, 15, 15, 512)       0         \n",
            "                                                                 \n",
            " block5_conv1 (Conv2D)       (None, 15, 15, 512)       2359808   \n",
            "                                                                 \n",
            " block5_conv2 (Conv2D)       (None, 15, 15, 512)       2359808   \n",
            "                                                                 \n",
            " block5_conv3 (Conv2D)       (None, 15, 15, 512)       2359808   \n",
            "                                                                 \n",
            " block5_pool (MaxPooling2D)  (None, 7, 7, 512)         0         \n",
            "                                                                 \n",
            " flatten (Flatten)           (None, 25088)             0         \n",
            "                                                                 \n",
            " fc1 (Dense)                 (None, 4096)              102764544 \n",
            "                                                                 \n",
            "=================================================================\n",
            "Total params: 117,479,232\n",
            "Trainable params: 102,764,544\n",
            "Non-trainable params: 14,714,688\n",
            "_________________________________________________________________\n"
          ]
        }
      ]
    },
    {
      "cell_type": "code",
      "metadata": {
        "id": "Ipz5UWK7NyLe"
      },
      "source": [
        "from tensorflow import GradientTape\n",
        "from tensorflow.keras import backend\n",
        "import tensorflow as tf"
      ],
      "execution_count": null,
      "outputs": []
    },
    {
      "cell_type": "code",
      "metadata": {
        "id": "72JDrpT0OEmH"
      },
      "source": [
        "output_neurons = 4096"
      ],
      "execution_count": null,
      "outputs": []
    },
    {
      "cell_type": "code",
      "metadata": {
        "id": "sNnnshAeN_sA"
      },
      "source": [
        "def generate_attack_img(img, FE, i, alpha=0.1, beta=0.01, gamma=1):\n",
        "  epoch = 20\n",
        "  #imgs = []\n",
        "\n",
        "  target = np.zeros(output_neurons)\n",
        "  target[i] = 1000\n",
        "\n",
        "  beta  = tf.constant(beta,  dtype=tf.float32)\n",
        "  gamma = tf.constant(gamma, dtype=tf.float32)\n",
        "\n",
        "  X = tf.convert_to_tensor(img, dtype=tf.float32)\n",
        "  FE.call = tf.function(FE.call)\n",
        "\n",
        "  for i in range(epoch):\n",
        "    with GradientTape() as tape:\n",
        "      tape.watch(X)\n",
        "      loss = gamma * backend.square( FE(X)[0][i] - target[i] ) + beta * backend.sum( backend.square( backend.relu(FE(X)[0] - target) ) )\n",
        "\n",
        "    '''\n",
        "      gamma * (F(X)[i] - target[i])^2 + beta * sigma[ RELU(F(X)[l] - target[l])^2 ], l != i\n",
        "      ~ gamma * (F(X)[i] - target[i])^2 + beta * sigma[ RELU(F(X)[l] - target[l])^2 ], l = 1~output_neurons, for gamma >> beta\n",
        "    '''\n",
        "\n",
        "    gradients = tape.gradient(loss, X)\n",
        "    X = X - alpha * gradients\n",
        "\n",
        "    #imgs.append(np.copy(X[0]))\n",
        "  \n",
        "  return X\n",
        "\n",
        "def attack(n, I, FE, model, alpha=0.1, beta=0.01, gamma=1):\n",
        "  '''\n",
        "    n: number of neurons at the output layer of FC\n",
        "    I: initial image\n",
        "    fc: Feature Extractor\n",
        "    model: Target Model to Attack\n",
        "  '''\n",
        "\n",
        "  for i in range(n):\n",
        "    img = generate_attack_img(np.copy(I), FE, i, alpha, beta, gamma)\n",
        "    pred = model.predict(tf.reshape(img, [1, 250, 250, 3]))[0]\n",
        "\n",
        "    if auth(pred):\n",
        "      print(i)\n",
        "      return img\n",
        "\n",
        "    print(max(pred))\n",
        "  \n",
        "  return None\n",
        "\n",
        "# authenticate the prediction\n",
        "def auth(pred):\n",
        "  threshold = 0.90\n",
        "\n",
        "  for p in pred:\n",
        "    if p > threshold:\n",
        "      return True\n",
        "\n",
        "  return False\n"
      ],
      "execution_count": null,
      "outputs": []
    },
    {
      "cell_type": "code",
      "metadata": {
        "colab": {
          "base_uri": "https://localhost:8080/",
          "height": 1000
        },
        "id": "C3HYy-_EOC_0",
        "outputId": "b0025a2b-eb59-4572-f0ae-0f24eb4ac5ce"
      },
      "source": [
        "init_img = np.zeros((1, 250, 250, 3))\n",
        "\n",
        "attacker = attack(output_neurons, init_img,  FE, model)"
      ],
      "execution_count": null,
      "outputs": [
        {
          "output_type": "error",
          "ename": "ResourceExhaustedError",
          "evalue": "ignored",
          "traceback": [
            "\u001b[0;31m---------------------------------------------------------------------------\u001b[0m",
            "\u001b[0;31mResourceExhaustedError\u001b[0m                    Traceback (most recent call last)",
            "\u001b[0;32m<ipython-input-28-3d9f862ac7a9>\u001b[0m in \u001b[0;36m<module>\u001b[0;34m()\u001b[0m\n\u001b[1;32m      1\u001b[0m \u001b[0minit_img\u001b[0m \u001b[0;34m=\u001b[0m \u001b[0mnp\u001b[0m\u001b[0;34m.\u001b[0m\u001b[0mzeros\u001b[0m\u001b[0;34m(\u001b[0m\u001b[0;34m(\u001b[0m\u001b[0;36m1\u001b[0m\u001b[0;34m,\u001b[0m \u001b[0;36m250\u001b[0m\u001b[0;34m,\u001b[0m \u001b[0;36m250\u001b[0m\u001b[0;34m,\u001b[0m \u001b[0;36m3\u001b[0m\u001b[0;34m)\u001b[0m\u001b[0;34m)\u001b[0m\u001b[0;34m\u001b[0m\u001b[0;34m\u001b[0m\u001b[0m\n\u001b[1;32m      2\u001b[0m \u001b[0;34m\u001b[0m\u001b[0m\n\u001b[0;32m----> 3\u001b[0;31m \u001b[0mattacker\u001b[0m \u001b[0;34m=\u001b[0m \u001b[0mattack\u001b[0m\u001b[0;34m(\u001b[0m\u001b[0moutput_neurons\u001b[0m\u001b[0;34m,\u001b[0m \u001b[0minit_img\u001b[0m\u001b[0;34m,\u001b[0m  \u001b[0mFE\u001b[0m\u001b[0;34m,\u001b[0m \u001b[0mmodel\u001b[0m\u001b[0;34m)\u001b[0m\u001b[0;34m\u001b[0m\u001b[0;34m\u001b[0m\u001b[0m\n\u001b[0m",
            "\u001b[0;32m<ipython-input-25-fa97af27d56b>\u001b[0m in \u001b[0;36mattack\u001b[0;34m(n, I, FE, model, alpha, beta, gamma)\u001b[0m\n\u001b[1;32m     38\u001b[0m \u001b[0;34m\u001b[0m\u001b[0m\n\u001b[1;32m     39\u001b[0m   \u001b[0;32mfor\u001b[0m \u001b[0mi\u001b[0m \u001b[0;32min\u001b[0m \u001b[0mrange\u001b[0m\u001b[0;34m(\u001b[0m\u001b[0mn\u001b[0m\u001b[0;34m)\u001b[0m\u001b[0;34m:\u001b[0m\u001b[0;34m\u001b[0m\u001b[0;34m\u001b[0m\u001b[0m\n\u001b[0;32m---> 40\u001b[0;31m     \u001b[0mimg\u001b[0m \u001b[0;34m=\u001b[0m \u001b[0mgenerate_attack_img\u001b[0m\u001b[0;34m(\u001b[0m\u001b[0mnp\u001b[0m\u001b[0;34m.\u001b[0m\u001b[0mcopy\u001b[0m\u001b[0;34m(\u001b[0m\u001b[0mI\u001b[0m\u001b[0;34m)\u001b[0m\u001b[0;34m,\u001b[0m \u001b[0mFE\u001b[0m\u001b[0;34m,\u001b[0m \u001b[0mi\u001b[0m\u001b[0;34m,\u001b[0m \u001b[0malpha\u001b[0m\u001b[0;34m,\u001b[0m \u001b[0mbeta\u001b[0m\u001b[0;34m,\u001b[0m \u001b[0mgamma\u001b[0m\u001b[0;34m)\u001b[0m\u001b[0;34m\u001b[0m\u001b[0;34m\u001b[0m\u001b[0m\n\u001b[0m\u001b[1;32m     41\u001b[0m     \u001b[0mpred\u001b[0m \u001b[0;34m=\u001b[0m \u001b[0mmodel\u001b[0m\u001b[0;34m.\u001b[0m\u001b[0mpredict\u001b[0m\u001b[0;34m(\u001b[0m\u001b[0mtf\u001b[0m\u001b[0;34m.\u001b[0m\u001b[0mreshape\u001b[0m\u001b[0;34m(\u001b[0m\u001b[0mimg\u001b[0m\u001b[0;34m,\u001b[0m \u001b[0;34m[\u001b[0m\u001b[0;36m1\u001b[0m\u001b[0;34m,\u001b[0m \u001b[0;36m250\u001b[0m\u001b[0;34m,\u001b[0m \u001b[0;36m250\u001b[0m\u001b[0;34m,\u001b[0m \u001b[0;36m3\u001b[0m\u001b[0;34m]\u001b[0m\u001b[0;34m)\u001b[0m\u001b[0;34m)\u001b[0m\u001b[0;34m[\u001b[0m\u001b[0;36m0\u001b[0m\u001b[0;34m]\u001b[0m\u001b[0;34m\u001b[0m\u001b[0;34m\u001b[0m\u001b[0m\n\u001b[1;32m     42\u001b[0m \u001b[0;34m\u001b[0m\u001b[0m\n",
            "\u001b[0;32m<ipython-input-25-fa97af27d56b>\u001b[0m in \u001b[0;36mgenerate_attack_img\u001b[0;34m(img, FE, i, alpha, beta, gamma)\u001b[0m\n\u001b[1;32m     22\u001b[0m     '''\n\u001b[1;32m     23\u001b[0m \u001b[0;34m\u001b[0m\u001b[0m\n\u001b[0;32m---> 24\u001b[0;31m     \u001b[0mgradients\u001b[0m \u001b[0;34m=\u001b[0m \u001b[0mtape\u001b[0m\u001b[0;34m.\u001b[0m\u001b[0mgradient\u001b[0m\u001b[0;34m(\u001b[0m\u001b[0mloss\u001b[0m\u001b[0;34m,\u001b[0m \u001b[0mX\u001b[0m\u001b[0;34m)\u001b[0m\u001b[0;34m\u001b[0m\u001b[0;34m\u001b[0m\u001b[0m\n\u001b[0m\u001b[1;32m     25\u001b[0m     \u001b[0mX\u001b[0m \u001b[0;34m=\u001b[0m \u001b[0mX\u001b[0m \u001b[0;34m-\u001b[0m \u001b[0malpha\u001b[0m \u001b[0;34m*\u001b[0m \u001b[0mgradients\u001b[0m\u001b[0;34m\u001b[0m\u001b[0;34m\u001b[0m\u001b[0m\n\u001b[1;32m     26\u001b[0m \u001b[0;34m\u001b[0m\u001b[0m\n",
            "\u001b[0;32m/usr/local/lib/python3.7/dist-packages/tensorflow/python/eager/backprop.py\u001b[0m in \u001b[0;36mgradient\u001b[0;34m(self, target, sources, output_gradients, unconnected_gradients)\u001b[0m\n\u001b[1;32m   1088\u001b[0m         \u001b[0moutput_gradients\u001b[0m\u001b[0;34m=\u001b[0m\u001b[0moutput_gradients\u001b[0m\u001b[0;34m,\u001b[0m\u001b[0;34m\u001b[0m\u001b[0;34m\u001b[0m\u001b[0m\n\u001b[1;32m   1089\u001b[0m         \u001b[0msources_raw\u001b[0m\u001b[0;34m=\u001b[0m\u001b[0mflat_sources_raw\u001b[0m\u001b[0;34m,\u001b[0m\u001b[0;34m\u001b[0m\u001b[0;34m\u001b[0m\u001b[0m\n\u001b[0;32m-> 1090\u001b[0;31m         unconnected_gradients=unconnected_gradients)\n\u001b[0m\u001b[1;32m   1091\u001b[0m \u001b[0;34m\u001b[0m\u001b[0m\n\u001b[1;32m   1092\u001b[0m     \u001b[0;32mif\u001b[0m \u001b[0;32mnot\u001b[0m \u001b[0mself\u001b[0m\u001b[0;34m.\u001b[0m\u001b[0m_persistent\u001b[0m\u001b[0;34m:\u001b[0m\u001b[0;34m\u001b[0m\u001b[0;34m\u001b[0m\u001b[0m\n",
            "\u001b[0;32m/usr/local/lib/python3.7/dist-packages/tensorflow/python/eager/imperative_grad.py\u001b[0m in \u001b[0;36mimperative_grad\u001b[0;34m(tape, target, sources, output_gradients, sources_raw, unconnected_gradients)\u001b[0m\n\u001b[1;32m     75\u001b[0m       \u001b[0moutput_gradients\u001b[0m\u001b[0;34m,\u001b[0m\u001b[0;34m\u001b[0m\u001b[0;34m\u001b[0m\u001b[0m\n\u001b[1;32m     76\u001b[0m       \u001b[0msources_raw\u001b[0m\u001b[0;34m,\u001b[0m\u001b[0;34m\u001b[0m\u001b[0;34m\u001b[0m\u001b[0m\n\u001b[0;32m---> 77\u001b[0;31m       compat.as_str(unconnected_gradients.value))\n\u001b[0m",
            "\u001b[0;32m/usr/local/lib/python3.7/dist-packages/tensorflow/python/eager/function.py\u001b[0m in \u001b[0;36m_backward_function_wrapper\u001b[0;34m(*args)\u001b[0m\n\u001b[1;32m   1305\u001b[0m           \u001b[0;32mbreak\u001b[0m\u001b[0;34m\u001b[0m\u001b[0;34m\u001b[0m\u001b[0m\n\u001b[1;32m   1306\u001b[0m       return backward._call_flat(  # pylint: disable=protected-access\n\u001b[0;32m-> 1307\u001b[0;31m           processed_args, remapped_captures)\n\u001b[0m\u001b[1;32m   1308\u001b[0m \u001b[0;34m\u001b[0m\u001b[0m\n\u001b[1;32m   1309\u001b[0m     \u001b[0;32mreturn\u001b[0m \u001b[0m_backward_function_wrapper\u001b[0m\u001b[0;34m,\u001b[0m \u001b[0mrecorded_outputs\u001b[0m\u001b[0;34m\u001b[0m\u001b[0;34m\u001b[0m\u001b[0m\n",
            "\u001b[0;32m/usr/local/lib/python3.7/dist-packages/tensorflow/python/eager/function.py\u001b[0m in \u001b[0;36m_call_flat\u001b[0;34m(self, args, captured_inputs, cancellation_manager)\u001b[0m\n\u001b[1;32m   1958\u001b[0m       \u001b[0;31m# No tape is watching; skip to running the function.\u001b[0m\u001b[0;34m\u001b[0m\u001b[0;34m\u001b[0m\u001b[0;34m\u001b[0m\u001b[0m\n\u001b[1;32m   1959\u001b[0m       return self._build_call_outputs(self._inference_function.call(\n\u001b[0;32m-> 1960\u001b[0;31m           ctx, args, cancellation_manager=cancellation_manager))\n\u001b[0m\u001b[1;32m   1961\u001b[0m     forward_backward = self._select_forward_and_backward_functions(\n\u001b[1;32m   1962\u001b[0m         \u001b[0margs\u001b[0m\u001b[0;34m,\u001b[0m\u001b[0;34m\u001b[0m\u001b[0;34m\u001b[0m\u001b[0m\n",
            "\u001b[0;32m/usr/local/lib/python3.7/dist-packages/tensorflow/python/eager/function.py\u001b[0m in \u001b[0;36mcall\u001b[0;34m(self, ctx, args, cancellation_manager)\u001b[0m\n\u001b[1;32m    601\u001b[0m               \u001b[0minputs\u001b[0m\u001b[0;34m=\u001b[0m\u001b[0margs\u001b[0m\u001b[0;34m,\u001b[0m\u001b[0;34m\u001b[0m\u001b[0;34m\u001b[0m\u001b[0m\n\u001b[1;32m    602\u001b[0m               \u001b[0mattrs\u001b[0m\u001b[0;34m=\u001b[0m\u001b[0mattrs\u001b[0m\u001b[0;34m,\u001b[0m\u001b[0;34m\u001b[0m\u001b[0;34m\u001b[0m\u001b[0m\n\u001b[0;32m--> 603\u001b[0;31m               ctx=ctx)\n\u001b[0m\u001b[1;32m    604\u001b[0m         \u001b[0;32melse\u001b[0m\u001b[0;34m:\u001b[0m\u001b[0;34m\u001b[0m\u001b[0;34m\u001b[0m\u001b[0m\n\u001b[1;32m    605\u001b[0m           outputs = execute.execute_with_cancellation(\n",
            "\u001b[0;32m/usr/local/lib/python3.7/dist-packages/tensorflow/python/eager/execute.py\u001b[0m in \u001b[0;36mquick_execute\u001b[0;34m(op_name, num_outputs, inputs, attrs, ctx, name)\u001b[0m\n\u001b[1;32m     57\u001b[0m     \u001b[0mctx\u001b[0m\u001b[0;34m.\u001b[0m\u001b[0mensure_initialized\u001b[0m\u001b[0;34m(\u001b[0m\u001b[0;34m)\u001b[0m\u001b[0;34m\u001b[0m\u001b[0;34m\u001b[0m\u001b[0m\n\u001b[1;32m     58\u001b[0m     tensors = pywrap_tfe.TFE_Py_Execute(ctx._handle, device_name, op_name,\n\u001b[0;32m---> 59\u001b[0;31m                                         inputs, attrs, num_outputs)\n\u001b[0m\u001b[1;32m     60\u001b[0m   \u001b[0;32mexcept\u001b[0m \u001b[0mcore\u001b[0m\u001b[0;34m.\u001b[0m\u001b[0m_NotOkStatusException\u001b[0m \u001b[0;32mas\u001b[0m \u001b[0me\u001b[0m\u001b[0;34m:\u001b[0m\u001b[0;34m\u001b[0m\u001b[0;34m\u001b[0m\u001b[0m\n\u001b[1;32m     61\u001b[0m     \u001b[0;32mif\u001b[0m \u001b[0mname\u001b[0m \u001b[0;32mis\u001b[0m \u001b[0;32mnot\u001b[0m \u001b[0;32mNone\u001b[0m\u001b[0;34m:\u001b[0m\u001b[0;34m\u001b[0m\u001b[0;34m\u001b[0m\u001b[0m\n",
            "\u001b[0;31mResourceExhaustedError\u001b[0m:  OOM when allocating tensor with shape[25088,4096] and type float on /job:localhost/replica:0/task:0/device:GPU:0 by allocator GPU_0_bfc\n\t [[node gradients/fc1/MatMul_grad/MatMul_1\n (defined at /usr/local/lib/python3.7/dist-packages/keras/utils/traceback_utils.py:92)\n]]\nHint: If you want to see a list of allocated tensors when OOM happens, add report_tensor_allocations_upon_oom to RunOptions for current allocation info. This isn't available when running in Eager mode.\n [Op:__inference___backward_call_167544_167673]\n\nErrors may have originated from an input operation.\nInput Source operations connected to node gradients/fc1/MatMul_grad/MatMul_1:\nIn[0] gradients/fc1/MatMul_grad/MatMul_1/flatten/Reshape:\t\nIn[1] gradients/fc1/Relu_grad/ReluGrad:\n\nOperation defined at: (most recent call last)\n>>>   File \"/usr/lib/python3.7/runpy.py\", line 193, in _run_module_as_main\n>>>     \"__main__\", mod_spec)\n>>> \n>>>   File \"/usr/lib/python3.7/runpy.py\", line 85, in _run_code\n>>>     exec(code, run_globals)\n>>> \n>>>   File \"/usr/local/lib/python3.7/dist-packages/ipykernel_launcher.py\", line 16, in <module>\n>>>     app.launch_new_instance()\n>>> \n>>>   File \"/usr/local/lib/python3.7/dist-packages/traitlets/config/application.py\", line 846, in launch_instance\n>>>     app.start()\n>>> \n>>>   File \"/usr/local/lib/python3.7/dist-packages/ipykernel/kernelapp.py\", line 499, in start\n>>>     self.io_loop.start()\n>>> \n>>>   File \"/usr/local/lib/python3.7/dist-packages/tornado/platform/asyncio.py\", line 132, in start\n>>>     self.asyncio_loop.run_forever()\n>>> \n>>>   File \"/usr/lib/python3.7/asyncio/base_events.py\", line 541, in run_forever\n>>>     self._run_once()\n>>> \n>>>   File \"/usr/lib/python3.7/asyncio/base_events.py\", line 1786, in _run_once\n>>>     handle._run()\n>>> \n>>>   File \"/usr/lib/python3.7/asyncio/events.py\", line 88, in _run\n>>>     self._context.run(self._callback, *self._args)\n>>> \n>>>   File \"/usr/local/lib/python3.7/dist-packages/tornado/platform/asyncio.py\", line 122, in _handle_events\n>>>     handler_func(fileobj, events)\n>>> \n>>>   File \"/usr/local/lib/python3.7/dist-packages/tornado/stack_context.py\", line 300, in null_wrapper\n>>>     return fn(*args, **kwargs)\n>>> \n>>>   File \"/usr/local/lib/python3.7/dist-packages/zmq/eventloop/zmqstream.py\", line 452, in _handle_events\n>>>     self._handle_recv()\n>>> \n>>>   File \"/usr/local/lib/python3.7/dist-packages/zmq/eventloop/zmqstream.py\", line 481, in _handle_recv\n>>>     self._run_callback(callback, msg)\n>>> \n>>>   File \"/usr/local/lib/python3.7/dist-packages/zmq/eventloop/zmqstream.py\", line 431, in _run_callback\n>>>     callback(*args, **kwargs)\n>>> \n>>>   File \"/usr/local/lib/python3.7/dist-packages/tornado/stack_context.py\", line 300, in null_wrapper\n>>>     return fn(*args, **kwargs)\n>>> \n>>>   File \"/usr/local/lib/python3.7/dist-packages/ipykernel/kernelbase.py\", line 283, in dispatcher\n>>>     return self.dispatch_shell(stream, msg)\n>>> \n>>>   File \"/usr/local/lib/python3.7/dist-packages/ipykernel/kernelbase.py\", line 233, in dispatch_shell\n>>>     handler(stream, idents, msg)\n>>> \n>>>   File \"/usr/local/lib/python3.7/dist-packages/ipykernel/kernelbase.py\", line 399, in execute_request\n>>>     user_expressions, allow_stdin)\n>>> \n>>>   File \"/usr/local/lib/python3.7/dist-packages/ipykernel/ipkernel.py\", line 208, in do_execute\n>>>     res = shell.run_cell(code, store_history=store_history, silent=silent)\n>>> \n>>>   File \"/usr/local/lib/python3.7/dist-packages/ipykernel/zmqshell.py\", line 537, in run_cell\n>>>     return super(ZMQInteractiveShell, self).run_cell(*args, **kwargs)\n>>> \n>>>   File \"/usr/local/lib/python3.7/dist-packages/IPython/core/interactiveshell.py\", line 2718, in run_cell\n>>>     interactivity=interactivity, compiler=compiler, result=result)\n>>> \n>>>   File \"/usr/local/lib/python3.7/dist-packages/IPython/core/interactiveshell.py\", line 2822, in run_ast_nodes\n>>>     if self.run_code(code, result):\n>>> \n>>>   File \"/usr/local/lib/python3.7/dist-packages/IPython/core/interactiveshell.py\", line 2882, in run_code\n>>>     exec(code_obj, self.user_global_ns, self.user_ns)\n>>> \n>>>   File \"<ipython-input-28-3d9f862ac7a9>\", line 3, in <module>\n>>>     attacker = attack(output_neurons, init_img,  FE, model)\n>>> \n>>>   File \"<ipython-input-25-fa97af27d56b>\", line 40, in attack\n>>>     img = generate_attack_img(np.copy(I), FE, i, alpha, beta, gamma)\n>>> \n>>>   File \"<ipython-input-25-fa97af27d56b>\", line 17, in generate_attack_img\n>>>     loss = gamma * backend.square( FE(X)[0][i] - target[i] ) + beta * backend.sum( backend.square( backend.relu(FE(X)[0] - target) ) )\n>>> \n>>>   File \"/usr/local/lib/python3.7/dist-packages/keras/utils/traceback_utils.py\", line 64, in error_handler\n>>>     return fn(*args, **kwargs)\n>>> \n>>>   File \"/usr/local/lib/python3.7/dist-packages/keras/engine/base_layer.py\", line 1083, in __call__\n>>>     outputs = call_fn(inputs, *args, **kwargs)\n>>> \n>>>   File \"/usr/local/lib/python3.7/dist-packages/keras/utils/traceback_utils.py\", line 92, in error_handler\n>>>     return fn(*args, **kwargs)\n>>> "
          ]
        }
      ]
    }
  ]
}